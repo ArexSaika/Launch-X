{
 "cells": [
  {
   "cell_type": "markdown",
   "metadata": {},
   "source": [
    "# Ejercicios para la Kata3"
   ]
  },
  {
   "cell_type": "code",
   "execution_count": 3,
   "metadata": {},
   "outputs": [
    {
     "name": "stdout",
     "output_type": "stream",
     "text": [
      "Alerta, toda la polación, dirijase a los bunquers\n"
     ]
    }
   ],
   "source": [
    "Asteroide = input(\"Velocidad del Asteroide en KM/s\")\n",
    "if int(Asteroide)>25:\n",
    "    print(\"Alerta, toda la polación, dirijase a los bunquers\")\n",
    "else:\n",
    "    print(\"Sín Alertas, Continue con su Día\")"
   ]
  },
  {
   "cell_type": "code",
   "execution_count": 4,
   "metadata": {},
   "outputs": [
    {
     "name": "stdout",
     "output_type": "stream",
     "text": [
      "Todo en calma\n"
     ]
    }
   ],
   "source": [
    "Asteroide = input(\"Velocidad del Asteroide en KM/s\")\n",
    "if int(Asteroide) > 20:\n",
    "    print('Pasa algo mágico en el cielo')\n",
    "elif int(Asteroide) == 20:\n",
    "    print('Pasa algo mágico en el cielo')\n",
    "else:\n",
    "    print('Todo en calma')"
   ]
  },
  {
   "cell_type": "code",
   "execution_count": null,
   "metadata": {},
   "outputs": [],
   "source": [
    "Velocidad_Asteroide = input(\"Velocidad del Asteroide en KM/s\")\n",
    "Tamano_Asteroide = input(\"Tamaño del Asteroide Metros\")\n",
    "if int(Velocidad_Asteroide) > 25 and int(Tamano_Asteroide) > 25:\n",
    "    print('¡Alerta, toda la polación, dirijase a los bunquers')\n",
    "elif int(Velocidad_Asteroide) >= 20:\n",
    "    print('Pasa algo mágico en el cielo')\n",
    "elif int(Tamano_Asteroide) < 25:\n",
    "    print('Todo en calma')\n",
    "else:\n",
    "    print('Todo en calma')\n"
   ]
  }
 ],
 "metadata": {
  "interpreter": {
   "hash": "916dbcbb3f70747c44a77c7bcd40155683ae19c65e1c03b4aa3499c5328201f1"
  },
  "kernelspec": {
   "display_name": "Python 3.8.10 64-bit",
   "language": "python",
   "name": "python3"
  },
  "language_info": {
   "codemirror_mode": {
    "name": "ipython",
    "version": 3
   },
   "file_extension": ".py",
   "mimetype": "text/x-python",
   "name": "python",
   "nbconvert_exporter": "python",
   "pygments_lexer": "ipython3",
   "version": "3.8.10"
  },
  "orig_nbformat": 4
 },
 "nbformat": 4,
 "nbformat_minor": 2
}
