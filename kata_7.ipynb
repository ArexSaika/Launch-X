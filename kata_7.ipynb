{
 "cells": [
  {
   "cell_type": "markdown",
   "metadata": {},
   "source": [
    "# Bucle \"while\" y Ciclo \"for\""
   ]
  },
  {
   "cell_type": "code",
   "execution_count": 6,
   "metadata": {},
   "outputs": [
    {
     "name": "stdout",
     "output_type": "stream",
     "text": [
      "No se registro ningun planeta\n"
     ]
    }
   ],
   "source": [
    "usuario_planeta = ''\n",
    "lista_planetas = [ ]\n",
    "\n",
    "while usuario_planeta.lower() != 'fin':\n",
    "    if usuario_planeta:\n",
    "        lista_planetas.append(usuario_planeta)\n",
    "    usuario_planeta = input('Ingrese el nombre de un planeta (\"Para finalizar el registro escriba ña palabra FIN\")')\n",
    "\n",
    "if lista_planetas:\n",
    "    print('Los planetas ingresados son los siguientes:')\n",
    "    for planeta in lista_planetas:\n",
    "        print(f'{planeta}')\n",
    "else:\n",
    "    print('No se registro ningun planeta')"
   ]
  }
 ],
 "metadata": {
  "interpreter": {
   "hash": "916dbcbb3f70747c44a77c7bcd40155683ae19c65e1c03b4aa3499c5328201f1"
  },
  "kernelspec": {
   "display_name": "Python 3.8.10 64-bit",
   "language": "python",
   "name": "python3"
  },
  "language_info": {
   "codemirror_mode": {
    "name": "ipython",
    "version": 3
   },
   "file_extension": ".py",
   "mimetype": "text/x-python",
   "name": "python",
   "nbconvert_exporter": "python",
   "pygments_lexer": "ipython3",
   "version": "3.8.10"
  },
  "orig_nbformat": 4
 },
 "nbformat": 4,
 "nbformat_minor": 2
}
