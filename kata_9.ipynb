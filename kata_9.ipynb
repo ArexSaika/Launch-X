{
 "cells": [
  {
   "cell_type": "markdown",
   "metadata": {},
   "source": [
    "# Funciones"
   ]
  },
  {
   "cell_type": "code",
   "execution_count": 3,
   "metadata": {},
   "outputs": [
    {
     "name": "stdout",
     "output_type": "stream",
     "text": [
      "Reporte completado:\n",
      "    Promeio General: 116.0%\n",
      "    Tanque de Combustible 1: 10%\n",
      "    Tanque de Combustible 2: 6%\n",
      "    Tanque de Combustible 3 100% \n",
      "    \n"
     ]
    }
   ],
   "source": [
    "def Generar_reporte(tanque1,tanque2,tanque3):\n",
    "    # promedio_general = (tanque1 + tanque2 + tanque3)/3\n",
    "    promedio_general = promedio([tanque1 + tanque2 + tanque3])\n",
    "    return f\"\"\"Reporte completado:\n",
    "    Promeio General: {promedio_general}%\n",
    "    Tanque de Combustible 1: {tanque1}%\n",
    "    Tanque de Combustible 2: {tanque2}%\n",
    "    Tanque de Combustible 3 {tanque3}% \n",
    "    \"\"\"\n",
    "def promedio(values):\n",
    "    total = sum(values)\n",
    "    numero_elementos = len(values)\n",
    "    return total / numero_elementos\n",
    "\n",
    "print(Generar_reporte(10, 6, 100))"
   ]
  },
  {
   "cell_type": "code",
   "execution_count": 6,
   "metadata": {},
   "outputs": [
    {
     "name": "stdout",
     "output_type": "stream",
     "text": [
      "\n",
      "    Misión a Jupiter\n",
      "    Tiempo total del viaje: 1050 Horas\n",
      "    Total de combustible: 146 Litros\n",
      "    \n"
     ]
    }
   ],
   "source": [
    "def reporte_de_mision(hora_lanzamieto, tiempo_vuelo, destino, tanque_externo, tanque_interno):\n",
    "    return f\"\"\"\n",
    "    Misión a {destino}\n",
    "    Tiempo total del viaje: {hora_lanzamieto + tiempo_vuelo} Horas\n",
    "    Total de combustible: {tanque_externo + tanque_interno} Litros\n",
    "    \"\"\"\n",
    "\n",
    "print(reporte_de_mision(50, 1000, \"Jupiter\", 92, 54))"
   ]
  },
  {
   "cell_type": "code",
   "execution_count": 6,
   "metadata": {},
   "outputs": [
    {
     "name": "stdout",
     "output_type": "stream",
     "text": [
      "\n",
      "    Misión a Jupiter\n",
      "    Tiempo total del viaje: 9939 Horas\n",
      "    Total de combustible: 234468 Litros\n",
      "    tanque_interno tanque --> 234 Litros\n",
      "tanque_externo tanque --> 234234 Litros\n",
      "\n"
     ]
    }
   ],
   "source": [
    "def reporte_de_mision(destino, *horas, **tanques):\n",
    "    reporte = f\"\"\"\n",
    "    Misión a {destino}\n",
    "    Tiempo total del viaje: {sum(horas)} Horas\n",
    "    Total de combustible: {sum(tanques.values())} Litros\n",
    "    \"\"\"\n",
    "    for nombre_tanque, litros in tanques.items():\n",
    "        reporte += f\"{nombre_tanque} tanque --> {litros} Litros\\n\"\n",
    "    return reporte\n",
    "\n",
    "print(reporte_de_mision(\"Jupiter\", 8, 9888, 43, tanque_interno=234, tanque_externo=234234))"
   ]
  }
 ],
 "metadata": {
  "interpreter": {
   "hash": "916dbcbb3f70747c44a77c7bcd40155683ae19c65e1c03b4aa3499c5328201f1"
  },
  "kernelspec": {
   "display_name": "Python 3.8.10 64-bit",
   "language": "python",
   "name": "python3"
  },
  "language_info": {
   "codemirror_mode": {
    "name": "ipython",
    "version": 3
   },
   "file_extension": ".py",
   "mimetype": "text/x-python",
   "name": "python",
   "nbconvert_exporter": "python",
   "pygments_lexer": "ipython3",
   "version": "3.8.10"
  },
  "orig_nbformat": 4
 },
 "nbformat": 4,
 "nbformat_minor": 2
}
