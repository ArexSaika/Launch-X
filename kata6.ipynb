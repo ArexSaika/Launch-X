{
 "cells": [
  {
   "cell_type": "code",
   "execution_count": 3,
   "metadata": {},
   "outputs": [
    {
     "name": "stdout",
     "output_type": "stream",
     "text": [
      "Lista de Planetas 8 planetas\n",
      "Pluto Es el Ultimo Planeta\n"
     ]
    }
   ],
   "source": [
    "planetas = ['Mercurio', 'Venus', 'Tierra', 'Marte', 'Jupiter', 'Saturno', 'Urano', 'Neptuno']\n",
    "print('Lista de Planetas', len(planetas), 'planetas')\n",
    "\n",
    "planetas.append('Pluto')\n",
    "print(planetas[-1], 'Es el Ultimo Planeta')\n"
   ]
  },
  {
   "cell_type": "code",
   "execution_count": 6,
   "metadata": {},
   "outputs": [
    {
     "name": "stdout",
     "output_type": "stream",
     "text": [
      "Estos planetas estan más cerca al sol Marte\n",
      "['Mercurio', 'Venus', 'Tierra']\n",
      "Estos Planetas estan más lejos del sol Marte\n",
      "['Jupiter', 'Saturno', 'urano', 'Neptuno']\n"
     ]
    }
   ],
   "source": [
    "planetas = ['Mercurio', 'Venus', 'Tierra', 'Marte', 'Jupiter', 'Saturno', 'Urano', 'Neptuno']\n",
    "planeta_nuevo = input('Por favor ingrese el nombre de un Planeta (Con la primera letra en Mayuscula)')\n",
    "\n",
    "planet_index = planetas.index(planeta_nuevo)\n",
    "\n",
    "print('Estos planetas estan más cerca al sol ' + planeta_nuevo)\n",
    "print(planetas[0:planet_index])\n",
    "\n",
    "print('Estos Planetas estan más lejos del sol ' + planeta_nuevo)\n",
    "print(planetas[planet_index + 1:])"
   ]
  }
 ],
 "metadata": {
  "interpreter": {
   "hash": "916dbcbb3f70747c44a77c7bcd40155683ae19c65e1c03b4aa3499c5328201f1"
  },
  "kernelspec": {
   "display_name": "Python 3.8.10 64-bit",
   "language": "python",
   "name": "python3"
  },
  "language_info": {
   "codemirror_mode": {
    "name": "ipython",
    "version": 3
   },
   "file_extension": ".py",
   "mimetype": "text/x-python",
   "name": "python",
   "nbconvert_exporter": "python",
   "pygments_lexer": "ipython3",
   "version": "3.8.10"
  },
  "orig_nbformat": 4
 },
 "nbformat": 4,
 "nbformat_minor": 2
}
